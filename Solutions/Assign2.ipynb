{
  "nbformat": 4,
  "nbformat_minor": 0,
  "metadata": {
    "colab": {
      "provenance": []
    },
    "kernelspec": {
      "name": "python3",
      "display_name": "Python 3"
    },
    "language_info": {
      "name": "python"
    }
  },
  "cells": [
    {
      "cell_type": "code",
      "execution_count": 4,
      "metadata": {
        "id": "FOwOBcLMpRlV"
      },
      "outputs": [],
      "source": [
        "import numpy as np\n",
        "import matplotlib.pyplot as plt"
      ]
    },
    {
      "cell_type": "code",
      "source": [
        "def convolution(image, kernel, stride=1, padding=0, activation='relu'):\n",
        "    h, w = kernel.shape[:2]\n",
        "    H, W, channels = image.shape\n",
        "\n",
        "    if padding > 0:\n",
        "        image = np.pad(image, ((padding, padding),\n",
        "                       (padding, padding), (0, 0)), 'constant')\n",
        "\n",
        "    # Compute output dimensions\n",
        "    outputHeight = (H - h + 2*padding) // stride + 1\n",
        "    outputWeight = (W - w + 2*padding) // stride + 1\n",
        "\n",
        "    output = np.zeros((outputHeight, outputWeight))\n",
        "\n",
        "    for i in range(0, H-h+1, stride):\n",
        "        for j in range(0, W-w+1, stride):\n",
        "            conv = 0\n",
        "            for c in range(channels):\n",
        "\n",
        "                region = image[i:i+h, j:j+w, c]\n",
        "\n",
        "                conv = conv + np.sum(region * kernel[:, :, c])\n",
        "\n",
        "            if activation == 'sigmoid':\n",
        "                conv = 1 / (1 + np.exp(-conv))\n",
        "            elif activation == 'tanh':\n",
        "                conv = np.tanh(conv)\n",
        "            elif activation == 'relu':\n",
        "                conv = np.maximum(0, conv)\n",
        "            elif activation == 'prelu':\n",
        "                alpha = 0.1  \n",
        "                conv = np.maximum(0, conv) + alpha * np.minimum(0, conv)\n",
        "\n",
        "            output[i//stride, j//stride] = conv\n",
        "\n",
        "    return output"
      ],
      "metadata": {
        "id": "qz5Py8JGpZRi"
      },
      "execution_count": 42,
      "outputs": []
    },
    {
      "cell_type": "code",
      "source": [
        "from matplotlib import image\n",
        "img = image.imread('iith.png')\n",
        "plt.imshow(img)\n",
        "plt.show()"
      ],
      "metadata": {
        "colab": {
          "base_uri": "https://localhost:8080/",
          "height": 269
        },
        "id": "YAeNtybvp7uQ",
        "outputId": "a1bac7dc-c518-4fdd-e825-21e61a330df7"
      },
      "execution_count": 180,
      "outputs": [
        {
          "output_type": "display_data",
          "data": {
            "text/plain": [
              "<Figure size 432x288 with 1 Axes>"
            ],
            "image/png": "[encoded data removed]"
          },
          "metadata": {
            "needs_background": "light"
          }
        }
      ]
    },
    {
      "cell_type": "code",
      "source": [
        "kernel = np.ones((3,3,4)) /9\n",
        "output = convolution(img, kernel)\n",
        "plt.subplot(1, 3, 1)\n",
        "plt.imshow(img)\n",
        "plt.title('Input image')\n",
        "plt.axis('off')\n",
        "\n",
        "plt.subplot(1, 3, 2)\n",
        "plt.imshow(kernel)\n",
        "plt.title('Filter kernel')\n",
        "plt.axis('off')\n",
        "\n",
        "plt.subplot(1, 3, 3)\n",
        "plt.imshow(output)\n",
        "plt.title('Output activation ')\n",
        "plt.axis('off')\n",
        "\n",
        "plt.show()"
      ],
      "metadata": {
        "colab": {
          "base_uri": "https://localhost:8080/",
          "height": 156
        },
        "id": "9_0uoXIjqWQb",
        "outputId": "f1971614-4324-4a8e-bb74-5befd53c91f1"
      },
      "execution_count": 182,
      "outputs": [
        {
          "output_type": "display_data",
          "data": {
            "text/plain": [
              "<Figure size 432x288 with 3 Axes>"
            ],
            "image/png": "[encoded data removed]"
          },
          "metadata": {
            "needs_background": "light"
          }
        }
      ]
    },
    {
      "cell_type": "code",
      "source": [
        "def pooling(activation_map, kernel_shape, stride=None, pooling_type='max'):\n",
        "\n",
        "    # get the shape of activation map\n",
        "    H, W = activation_map.shape\n",
        "    if type(kernel_shape) == int:\n",
        "        h = w = kernel_shape\n",
        "    else:\n",
        "       h, w = kernel_shape\n",
        "    if stride == None:\n",
        "        stride = w\n",
        "\n",
        "    # compute the output dimensions\n",
        "    o_h = (H - h) // stride + 1\n",
        "    o_w = (W - w) // stride + 1\n",
        "\n",
        "    # initialize the output matrix\n",
        "    output = np.zeros((o_h, o_w))\n",
        "\n",
        "    # loop over the activation map\n",
        "    for i in range(0, H-h+1, stride):\n",
        "        for j in range(0, W-w+1, stride):\n",
        "            region = activation_map[i:i+h, j:j+w]\n",
        "            if pooling_type == 'max':\n",
        "                output[i//stride, j//stride] = np.max(region)\n",
        "            elif pooling_type == 'avg':\n",
        "                output[i//stride, j//stride] = np.mean(region)\n",
        "\n",
        "    return output"
      ],
      "metadata": {
        "id": "B0qu4jdTrrnv"
      },
      "execution_count": 183,
      "outputs": []
    },
    {
      "cell_type": "code",
      "source": [
        "pooledOutput = pooling(output, kernel_shape=5, pooling_type='avg')\n",
        "print(pooledOutput.shape)\n",
        "plt.subplot(1, 2, 1)\n",
        "plt.imshow(output)\n",
        "plt.title('Input Activation')\n",
        "plt.axis('off')\n",
        "\n",
        "plt.subplot(1, 2, 2)\n",
        "plt.imshow(pooledOutput)\n",
        "plt.title('pooledOutput')\n",
        "plt.axis('off')\n",
        "\n",
        "plt.show()"
      ],
      "metadata": {
        "colab": {
          "base_uri": "https://localhost:8080/",
          "height": 234
        },
        "id": "jni8EqzZuBxe",
        "outputId": "b6ee002a-2742-49bd-a91a-661b7643e9ba"
      },
      "execution_count": 185,
      "outputs": [
        {
          "output_type": "stream",
          "name": "stdout",
          "text": [
            "(159, 143)\n"
          ]
        },
        {
          "output_type": "display_data",
          "data": {
            "text/plain": [
              "<Figure size 432x288 with 2 Axes>"
            ],
            "image/png": "[encoded data removed]"
          },
          "metadata": {
            "needs_background": "light"
          }
        }
      ]
    },
    {
      "cell_type": "code",
      "source": [
        "class ConvolutionalLayer:\n",
        "    def __init__(self,input_shape, num_filters, kernel_size, stride=1, padding=0, activation='relu'):\n",
        "        self.num_filters = num_filters\n",
        "        self.kernel_size = kernel_size\n",
        "        self.stride = stride\n",
        "        self.padding = padding\n",
        "        self.activation = activation\n",
        "        self.filter_shape = (self.kernel_size, self.kernel_size, input_shape[2], self.num_filters)\n",
        "        self.filter_bank = np.random.randn(*self.filter_shape)\n",
        "        self.input_volume = None\n",
        "        self.output_volume = None\n",
        "\n",
        "    def compute_output_shape(self, input_shape):\n",
        "        output_height = (input_shape[0] - self.kernel_size + 2*self.padding) // self.stride + 1\n",
        "        output_width = (input_shape[1] - self.kernel_size + 2*self.padding) // self.stride + 1\n",
        "        return (output_height, output_width, self.num_filters)\n",
        "\n",
        "    def forward(self, input_volume):\n",
        "        self.input_volume = input_volume\n",
        "        output_shape = self.compute_output_shape(input_volume.shape)\n",
        "        self.output_volume = np.zeros(output_shape)\n",
        "        for f in range(self.num_filters):\n",
        "            filter_kernel = self.filter_bank[:, :, :, f]\n",
        "            output = convolution(input_volume, filter_kernel, self.stride, self.padding,self.activation)\n",
        "            self.output_volume[:, :, f] = output\n",
        "        return self.output_volume\n",
        "\n"
      ],
      "metadata": {
        "id": "jWT6ywFGuQQD"
      },
      "execution_count": 186,
      "outputs": []
    },
    {
      "cell_type": "code",
      "source": [
        "conv_layer = ConvolutionalLayer(input_shape=img.shape,num_filters=4, kernel_size=3, stride=1,activation='sigmoid')\n",
        "output_volume = conv_layer.forward(img)\n",
        "output_volume.shape"
      ],
      "metadata": {
        "colab": {
          "base_uri": "https://localhost:8080/"
        },
        "id": "gmmceS51vsF4",
        "outputId": "2ca52763-d98c-48ce-99fa-088dcae28ecc"
      },
      "execution_count": 188,
      "outputs": [
        {
          "output_type": "execute_result",
          "data": {
            "text/plain": [
              "(798, 718, 4)"
            ]
          },
          "metadata": {},
          "execution_count": 188
        }
      ]
    },
    {
      "cell_type": "code",
      "source": [
        "class PoolingLayer:\n",
        "    def __init__(self, kernel_size, stride=None, pooling_type='max'):\n",
        "        self.kernel_size = kernel_size\n",
        "        self.stride = stride or kernel_size[0]\n",
        "        self.pooling_type = pooling_type\n",
        "        self.input_volume = None\n",
        "        self.output_volume = None\n",
        "    \n",
        "    def forward(self, input_volume):\n",
        "        self.input_volume = input_volume\n",
        "        output_shape = ((self.input_volume.shape[0] - self.kernel_size[0]) // self.stride + 1,\n",
        "                        (self.input_volume.shape[1] - self.kernel_size[1]) // self.stride + 1,\n",
        "                        self.input_volume.shape[-1])\n",
        "        self.output_volume = np.zeros(output_shape)\n",
        "        for f in range(self.input_volume.shape[-1]):\n",
        "            filter_kernel = self.input_volume[:, :, f]\n",
        "            output = pooling(filter_kernel, self.kernel_size, self.stride, self.pooling_type)\n",
        "            self.output_volume[:, :, f] = output\n",
        "        return self.output_volume\n"
      ],
      "metadata": {
        "id": "VJkh1QuowqyN"
      },
      "execution_count": 22,
      "outputs": []
    },
    {
      "cell_type": "markdown",
      "source": [
        "For Global Average pooling layer kernel_size=img.shape and pooling_type = avg"
      ],
      "metadata": {
        "id": "K90FcD8buTq9"
      }
    },
    {
      "cell_type": "code",
      "source": [
        "# Create pooling layer\n",
        "pooling_layer = PoolingLayer(kernel_size=(2,2), pooling_type='max')\n",
        "\n",
        "# Apply max pooling\n",
        "pooled_output_volume = pooling_layer.forward(output_volume)\n",
        "pooled_output_volume.shape\n",
        "\n",
        "\n"
      ],
      "metadata": {
        "colab": {
          "base_uri": "https://localhost:8080/"
        },
        "id": "3ALJ4cEmzf38",
        "outputId": "e8c2a34a-adc2-489e-bb75-8a07be7343db"
      },
      "execution_count": 66,
      "outputs": [
        {
          "output_type": "execute_result",
          "data": {
            "text/plain": [
              "(399, 359, 10)"
            ]
          },
          "metadata": {},
          "execution_count": 66
        }
      ]
    },
    {
      "cell_type": "code",
      "source": [
        "class FlattenLayer:\n",
        "    def __init__(self):\n",
        "        pass\n",
        "\n",
        "    def forward(self, input_volume):\n",
        "        self.input_volume = input_volume\n",
        "        self.output_volume = input_volume.flatten()\n",
        "        self.weights = np.random.randn(self.output_volume.shape[0], 8)\n",
        "        return np.matmul(self.output_volume, self.weights)\n"
      ],
      "metadata": {
        "id": "t4cGOlar4LJA"
      },
      "execution_count": 189,
      "outputs": []
    },
    {
      "cell_type": "code",
      "source": [
        "flat = FlattenLayer()\n",
        "presdb = flat.forward(pooled_output_volume)\n",
        "presdb"
      ],
      "metadata": {
        "colab": {
          "base_uri": "https://localhost:8080/"
        },
        "id": "fowvTuMK9ag2",
        "outputId": "14166483-2cc2-42f3-ccb1-d2a8b72ae1fd"
      },
      "execution_count": 190,
      "outputs": [
        {
          "output_type": "execute_result",
          "data": {
            "text/plain": [
              "array([1441.52609667, -242.95674108,    8.38481612,   47.92820893,\n",
              "       -340.82040939, 1291.73541221, -156.26752131, -320.1105316 ])"
            ]
          },
          "metadata": {},
          "execution_count": 190
        }
      ]
    },
    {
      "cell_type": "code",
      "source": [
        "class MLP:\n",
        "    def __init__(self, input_size, hidden_size, output_size, hidden_activation='relu', apply_softmax=True):\n",
        "        self.input_size = input_size\n",
        "        self.hidden_size = hidden_size\n",
        "        self.output_size = output_size\n",
        "\n",
        "        # Initialize weights and biases for input-hidden and hidden-output layers\n",
        "        self.weights_ih = np.random.randn(hidden_size, input_size)\n",
        "        self.biases_ih = np.random.randn(hidden_size)\n",
        "        self.weights_ho = np.random.randn(output_size, hidden_size)\n",
        "        self.biases_ho = np.random.randn(output_size)\n",
        "\n",
        "        # Set activation function for hidden layer\n",
        "        self.hidden_activation = self.get_activation_function(\n",
        "            hidden_activation)\n",
        "\n",
        "        # Set whether to apply softmax to output layer\n",
        "        self.apply_softmax = apply_softmax\n",
        "\n",
        "    def forward(self, x):\n",
        "        # Calculate input-hidden layer output\n",
        "        hidden_output = np.dot(self.weights_ih, x) + self.biases_ih\n",
        "        hidden_output = self.hidden_activation(hidden_output)\n",
        "\n",
        "        # Calculate hidden-output layer output\n",
        "        output = np.dot(self.weights_ho, hidden_output) + self.biases_ho\n",
        "        if self.apply_softmax:\n",
        "            output = self.softmax(output).reshape(self.output_size,)\n",
        "\n",
        "        return output.reshape(self.output_size,)\n",
        "\n",
        "    def get_activation_function(self, activation):\n",
        "        if activation == 'relu':\n",
        "            return self.relu\n",
        "        elif activation == 'sigmoid':\n",
        "            return self.sigmoid\n",
        "        elif activation == 'prelu':\n",
        "            return self.prelu\n",
        "        elif activation == 'tanh':\n",
        "            return self.tanh\n",
        "        else:\n",
        "            raise ValueError(f'Invalid activation function: {activation}')\n",
        "\n",
        "    def relu(self, x):\n",
        "        return np.maximum(0, x)\n",
        "\n",
        "    def sigmoid(self, x):\n",
        "        return 1 / (1 + np.exp(-x))\n",
        "\n",
        "    def prelu(self, x):\n",
        "        alpha = 0.1  # PReLU parameter\n",
        "        return np.maximum(0, x) + alpha * np.minimum(0, x)\n",
        "\n",
        "    def tanh(self, x):\n",
        "        return np.tanh(x)\n",
        "\n",
        "    def softmax(self, x):\n",
        "        exp_x = np.exp(x)\n",
        "        return exp_x / np.sum(exp_x)"
      ],
      "metadata": {
        "id": "ofmd-48xISRI"
      },
      "execution_count": 191,
      "outputs": []
    },
    {
      "cell_type": "code",
      "source": [
        "#Testing MLP\n",
        "mlp = MLP(3, 4, 5, hidden_activation='relu', apply_softmax=True)\n",
        "x = np.array([1, 2,3])\n",
        "output = mlp.forward(x)\n",
        "print(output)"
      ],
      "metadata": {
        "colab": {
          "base_uri": "https://localhost:8080/"
        },
        "id": "pNC1aVoeIVjU",
        "outputId": "873bafa7-c641-452b-b98d-c617f3c63fc6"
      },
      "execution_count": 193,
      "outputs": [
        {
          "output_type": "stream",
          "name": "stdout",
          "text": [
            "[9.39645499e-01 2.08302091e-05 5.54074237e-02 4.74207829e-08\n",
            " 4.92619930e-03]\n"
          ]
        }
      ]
    },
    {
      "cell_type": "code",
      "source": [
        "class ConvolutionalNeuralNetwork:\n",
        "\n",
        "    def __init__(self, num_classes):\n",
        "        self.num_classes = num_classes\n",
        "        self.layers = []\n",
        "\n",
        "    def add_layer(self, layer):\n",
        "        self.layers.append(layer)\n",
        "\n",
        "    def forward(self, input_volume):\n",
        "        for layer in self.layers:\n",
        "            input_volume = layer.forward(input_volume)\n",
        "        return input_volume"
      ],
      "metadata": {
        "id": "6RB25TawGRZL"
      },
      "execution_count": 194,
      "outputs": []
    },
    {
      "cell_type": "code",
      "source": [
        "cnn = ConvolutionalNeuralNetwork(num_classes=10)\n",
        "cnn.add_layer(ConvolutionalLayer(input_shape=(32,32,3),num_filters=16,kernel_size=3,activation='sigmoid'))\n",
        "cnn.add_layer(PoolingLayer(kernel_size=(2,2), pooling_type='max'))\n",
        "cnn.add_layer(ConvolutionalLayer(input_shape=(15, 15, 16),num_filters=8,kernel_size=3,activation='sigmoid'))\n",
        "cnn.add_layer(PoolingLayer(kernel_size=(2,2), pooling_type='max'))\n",
        "cnn.add_layer(PoolingLayer(kernel_size=(6,6), pooling_type='avg'))\n",
        "cnn.add_layer(FlattenLayer())\n",
        "cnn.add_layer(MLP(8, 8, 10, hidden_activation='relu', apply_softmax=True))\n",
        "\n",
        "bird = image.imread('bird.png')\n",
        "print(bird.shape)\n",
        "output = cnn.forward(bird)\n",
        "output"
      ],
      "metadata": {
        "colab": {
          "base_uri": "https://localhost:8080/"
        },
        "id": "mjGzLxGnF-_0",
        "outputId": "80a6f7ea-8df1-4db4-85a2-85d486305571"
      },
      "execution_count": 195,
      "outputs": [
        {
          "output_type": "stream",
          "name": "stdout",
          "text": [
            "(32, 32, 3)\n"
          ]
        },
        {
          "output_type": "execute_result",
          "data": {
            "text/plain": [
              "array([1.64273102e-10, 3.28191626e-07, 6.10483613e-10, 4.73874066e-10,\n",
              "       9.99998112e-01, 5.45982713e-16, 8.49246391e-19, 1.51187367e-06,\n",
              "       6.13991774e-10, 4.56815523e-08])"
            ]
          },
          "metadata": {},
          "execution_count": 195
        }
      ]
    },
    {
      "cell_type": "code",
      "source": [
        "#LOAD CIFAR-10 Data\n",
        "\n",
        "import pickle\n",
        "def unpickle(file):\n",
        "    with open(file, 'rb') as fo:\n",
        "        dict = pickle.load(fo, encoding='bytes')\n",
        "    data = []\n",
        "    labels = []\n",
        "    for i in range(len(dict[b'labels'])):\n",
        "        label = dict[b'labels'][i]\n",
        "        data.append(dict[b'data'][i])\n",
        "        labels.append(label)\n",
        "    return data, labels\n",
        "\n",
        "file = 'data_batch_1'\n",
        "data, labels = unpickle(file)\n",
        "class_data = [[] for i in range(10)]\n",
        "for i in range(10):\n",
        "    class_label = i\n",
        "    class_data[i] = [data[j]\n",
        "                     for j in range(len(data)) if labels[j] == class_label]"
      ],
      "metadata": {
        "id": "cd66coYtU9v6"
      },
      "execution_count": 196,
      "outputs": []
    },
    {
      "cell_type": "code",
      "source": [
        "#plot 5th image of 6th label(frog)\n",
        "img = class_data[6][5]\n",
        "img = np.reshape(img, (3, 32, 32))\n",
        "img = np.transpose(img, (1, 2, 0))\n",
        "print(img.shape)\n",
        "plt.imshow(img)\n",
        "plt.show()"
      ],
      "metadata": {
        "colab": {
          "base_uri": "https://localhost:8080/",
          "height": 284
        },
        "id": "XpLV38mnNugQ",
        "outputId": "6fb7425a-84ef-4acd-b3f0-7ae9bbd3a306"
      },
      "execution_count": 198,
      "outputs": [
        {
          "output_type": "stream",
          "name": "stdout",
          "text": [
            "(32, 32, 3)\n"
          ]
        },
        {
          "output_type": "display_data",
          "data": {
            "text/plain": [
              "<Figure size 432x288 with 1 Axes>"
            ],
            "image/png": "[encoded data removed]"
          },
          "metadata": {
            "needs_background": "light"
          }
        }
      ]
    },
    {
      "cell_type": "code",
      "source": [
        "output=[]\n",
        "for i in range(10):\n",
        "  img = class_data[i][5]\n",
        "  img = np.reshape(img, (3, 32, 32))\n",
        "  img = np.transpose(img, (1, 2, 0))\n",
        "  output.append(cnn.forward(img))\n",
        "output"
      ],
      "metadata": {
        "colab": {
          "base_uri": "https://localhost:8080/"
        },
        "id": "TSj-ul-5X8IK",
        "outputId": "718550a2-b385-4a81-97fe-4d2ddd657374"
      },
      "execution_count": 199,
      "outputs": [
        {
          "output_type": "stream",
          "name": "stderr",
          "text": [
            "<ipython-input-42-a6b610588910>:25: RuntimeWarning: overflow encountered in exp\n",
            "  conv = 1 / (1 + np.exp(-conv))\n"
          ]
        },
        {
          "output_type": "execute_result",
          "data": {
            "text/plain": [
              "[array([1.88400409e-05, 3.71313598e-03, 1.71577576e-17, 5.29036886e-03,\n",
              "        1.14942005e-07, 8.48917718e-17, 1.05561050e-13, 9.89919008e-01,\n",
              "        9.89433745e-24, 1.05853168e-03]),\n",
              " array([1.04216873e-08, 1.59531464e-10, 1.86912692e-12, 3.01957144e-11,\n",
              "        9.99999837e-01, 2.87552140e-18, 2.49660854e-18, 6.38048346e-09,\n",
              "        1.58040414e-12, 1.45525351e-07]),\n",
              " array([0.03703496, 0.0279022 , 0.05196998, 0.41879171, 0.33886517,\n",
              "        0.01276686, 0.00234843, 0.07213339, 0.00969791, 0.02848939]),\n",
              " array([4.27550045e-11, 9.76196416e-01, 3.08057209e-06, 3.95255687e-03,\n",
              "        2.88898911e-05, 7.21428510e-10, 2.23205878e-14, 1.98183437e-02,\n",
              "        4.96615091e-12, 7.12153680e-07]),\n",
              " array([3.46393309e-04, 5.89508541e-04, 1.54057509e-11, 8.01391087e-04,\n",
              "        8.29612786e-07, 3.33128425e-13, 6.08264185e-12, 9.60947028e-01,\n",
              "        2.41644495e-18, 3.73148492e-02]),\n",
              " array([4.41328279e-03, 9.48168024e-03, 1.94692662e-10, 2.64002041e-04,\n",
              "        1.43758535e-01, 3.80639628e-13, 6.88021096e-12, 7.61658507e-01,\n",
              "        9.53235316e-20, 8.04239922e-02]),\n",
              " array([6.87878706e-10, 4.75751554e-01, 1.65114721e-06, 3.91731442e-07,\n",
              "        1.34229140e-07, 9.57962393e-14, 9.14786706e-20, 5.24073149e-01,\n",
              "        1.93449699e-24, 1.73119560e-04]),\n",
              " array([3.08295584e-06, 2.26328624e-07, 8.49184978e-12, 8.56343153e-10,\n",
              "        9.90885322e-01, 9.25518407e-20, 7.75090687e-21, 8.46235238e-03,\n",
              "        2.19357567e-27, 6.49015495e-04]),\n",
              " array([4.50912122e-04, 2.81319265e-02, 1.35413943e-04, 9.28249051e-01,\n",
              "        2.08497935e-04, 1.74868281e-06, 4.83198796e-07, 2.48296102e-04,\n",
              "        5.68139640e-05, 4.25168564e-02]),\n",
              " array([0.06380685, 0.01152399, 0.03784834, 0.21410437, 0.26479416,\n",
              "        0.01378407, 0.02120388, 0.30468461, 0.01302632, 0.0552234 ])]"
            ]
          },
          "metadata": {},
          "execution_count": 199
        }
      ]
    },
    {
      "cell_type": "markdown",
      "source": [
        "From the Above oupt vectors for each class we can derive that as in each vector one or more classes have a probability that is much higher than probabilities of other classes,this implies classes are easily separable and distinct\n",
        "\n"
      ],
      "metadata": {
        "id": "UjiCRQZiacm1"
      }
    },
    {
      "cell_type": "code",
      "source": [
        "add_cnn = ConvolutionalNeuralNetwork(num_classes=10)\n",
        "add_cnn.add_layer(ConvolutionalLayer(input_shape=(32,32,3),num_filters=16,kernel_size=3,activation='sigmoid'))\n",
        "add_cnn.add_layer(PoolingLayer(kernel_size=(2,2), pooling_type='max'))\n",
        "add_cnn.add_layer(ConvolutionalLayer(input_shape=(15, 15, 16),num_filters=8,kernel_size=3,activation='sigmoid'))\n",
        "add_cnn.add_layer(PoolingLayer(kernel_size=(2,2), pooling_type='max'))\n",
        "add_cnn.add_layer(PoolingLayer(kernel_size=(6,6), pooling_type='avg')) # Global Avg Pooling\n",
        "add_cnn.add_layer(FlattenLayer())\n",
        " \n",
        "output=np.empty((10,3),dtype=object)\n",
        "for i in range(10):\n",
        "  for j in range(3):\n",
        "    img = class_data[i][j]\n",
        "    img = np.reshape(img, (3, 32, 32))\n",
        "    img = np.transpose(img, (1, 2, 0))\n",
        "    value = add_cnn.forward(img)\n",
        "    output[i,j]= value\n",
        "output"
      ],
      "metadata": {
        "colab": {
          "base_uri": "https://localhost:8080/"
        },
        "id": "IMuFLq6mbUkB",
        "outputId": "ba29cf55-e0cb-40b8-943e-1ea0ae41f593"
      },
      "execution_count": 200,
      "outputs": [
        {
          "output_type": "stream",
          "name": "stderr",
          "text": [
            "<ipython-input-42-a6b610588910>:25: RuntimeWarning: overflow encountered in exp\n",
            "  conv = 1 / (1 + np.exp(-conv))\n"
          ]
        },
        {
          "output_type": "execute_result",
          "data": {
            "text/plain": [
              "array([[array([ 0.26238721, -1.58652914,  2.30233288,  0.67379657,  1.56263311,\n",
              "               -2.70971286, -1.42719964, -0.9962528 ])                         ,\n",
              "        array([ 2.26609131, -1.97374451,  0.52842012,  0.88216366, -0.36088348,\n",
              "               -1.33659592, -0.61559742, -1.84434891])                         ,\n",
              "        array([-1.19253295, -3.30196826, -0.79202199,  1.464156  , -0.87752297,\n",
              "                0.15341077,  0.20847774,  4.39793258])                         ],\n",
              "       [array([-0.49640831, -1.30646777, -1.37772841,  0.64507396, -2.52585258,\n",
              "               -1.56853694, -4.64298586,  3.23815679])                         ,\n",
              "        array([ 1.13043315,  0.91620403, -1.54933751, -0.81039783, -1.64788129,\n",
              "                1.15563062, -1.61463624, -0.38139377])                         ,\n",
              "        array([-0.8864228 ,  2.16189639, -2.10547614,  2.37286723, -1.57007253,\n",
              "                0.84256881, -1.34526047, -2.72148439])                         ],\n",
              "       [array([ 1.66518971, -0.54835621, -0.11083937, -1.28069534, -0.45906813,\n",
              "                0.14686127,  0.83444113, -0.27466437])                         ,\n",
              "        array([-3.16307044, -1.73867504,  1.13847103, -2.2948989 ,  0.27491696,\n",
              "                0.00392527,  0.71350049, -1.20802002])                         ,\n",
              "        array([ 0.1417095 , -0.29492779,  0.83801874,  0.52814954, -2.17769937,\n",
              "               -1.47079406, -0.18274418, -0.09318348])                         ],\n",
              "       [array([ 0.45570942,  2.00714729, -1.49228727,  1.52719949,  3.75969941,\n",
              "               -1.59692171,  0.47762823,  1.51229414])                         ,\n",
              "        array([ 1.28230715, -0.86704151,  0.61345494,  0.31061033, -2.84729572,\n",
              "                1.00982449, -1.07692377,  0.8400032 ])                         ,\n",
              "        array([-0.40482416,  0.35262697, -0.14674118, -2.62280444,  2.18562399,\n",
              "               -0.80383185, -0.30011494,  0.75515388])                         ],\n",
              "       [array([-0.02613818, -2.22553287,  0.2329442 , -0.28593503,  0.98676965,\n",
              "                3.2244067 ,  1.03205781,  0.8252798 ])                         ,\n",
              "        array([-0.70544014,  1.63626728,  2.40888725, -2.042277  ,  0.35888253,\n",
              "                1.01576759, -0.55327053,  0.71462938])                         ,\n",
              "        array([-0.03035035, -1.11965867,  0.56676111,  0.7992198 ,  0.16958137,\n",
              "                1.08128373,  0.93682903,  1.3026945 ])                         ],\n",
              "       [array([ 0.63626194,  0.09652923, -2.06770869,  3.63590279,  1.16637842,\n",
              "                0.85351894, -1.52109119,  1.56500178])                         ,\n",
              "        array([ 0.78456059, -0.99733459,  0.02379095,  0.29507855,  1.04494664,\n",
              "               -0.2424224 , -1.93530504, -1.02906972])                         ,\n",
              "        array([-0.39054141,  2.42312419, -0.78416456, -1.13775729, -2.01645   ,\n",
              "                0.04715563, -0.28806217,  1.28830671])                         ],\n",
              "       [array([-2.04671562, -1.69631179, -1.37847364,  1.8503605 , -0.43298748,\n",
              "                0.15765791,  0.30815636, -3.03459894])                         ,\n",
              "        array([-0.79826656,  0.25470096,  1.85300687,  1.36877828,  0.62797052,\n",
              "                0.59131388,  0.18088892, -1.81527118])                         ,\n",
              "        array([-0.44743718,  1.40457868,  0.93050929,  0.19592242,  1.36944339,\n",
              "                0.74522551,  1.46546512, -1.27721   ])                         ],\n",
              "       [array([ 0.48723537, -4.2452311 , -2.07607964,  1.28554716,  2.14243914,\n",
              "                1.08185807,  2.99568777, -0.22809385])                         ,\n",
              "        array([-3.03227376,  3.07744432,  0.56109973,  1.59043128,  0.0152051 ,\n",
              "               -0.40109455, -0.50985505,  0.24506768])                         ,\n",
              "        array([-2.19291614, -1.05628865, -1.49826991, -0.4011579 ,  1.47778313,\n",
              "                0.7971652 ,  1.16532203, -0.45302157])                         ],\n",
              "       [array([ 0.1717152 , -3.0638557 , -1.53480182,  0.07061787, -1.20273374,\n",
              "                0.32764081, -0.06854259,  2.49063817])                         ,\n",
              "        array([ 1.05257767,  0.37984792, -1.79108962,  2.18190419,  1.49423149,\n",
              "                1.51643288,  0.22518692,  2.22298615])                         ,\n",
              "        array([ 0.45520104,  0.82708181, -1.25058478, -0.98991948,  0.89662835,\n",
              "               -0.55730121,  0.69288129, -0.29387912])                         ],\n",
              "       [array([-1.80076798,  0.35424461, -0.55141166,  0.44140836,  2.49628361,\n",
              "               -0.49495724,  1.40113176, -1.22306307])                         ,\n",
              "        array([-1.06706374,  0.75983841, -0.51139753,  0.49231989, -1.67214611,\n",
              "                0.76639285,  3.49660675, -0.27945585])                         ,\n",
              "        array([ 0.69805168,  0.25377075,  1.00622846, -0.62102551, -1.57828213,\n",
              "               -1.74881793,  0.62508273,  0.89746443])                         ]],\n",
              "      dtype=object)"
            ]
          },
          "metadata": {},
          "execution_count": 200
        }
      ]
    },
    {
      "cell_type": "code",
      "source": [
        "#converting the outpt to a 2d array\n",
        "output_array = np.full((10, 8), np.nan)  # create new array filled with nan values\n",
        "for i in range(10):\n",
        "    for j in range(3):\n",
        "        seq = output[i, j]\n",
        "        output_array[i, :len(seq)] = seq  # fill in values from output\n",
        "output_array"
      ],
      "metadata": {
        "colab": {
          "base_uri": "https://localhost:8080/"
        },
        "id": "NSLVwT7Gi0Vg",
        "outputId": "a47c03fd-2d40-4638-ff35-65118d909da5"
      },
      "execution_count": 201,
      "outputs": [
        {
          "output_type": "execute_result",
          "data": {
            "text/plain": [
              "array([[-1.19253295, -3.30196826, -0.79202199,  1.464156  , -0.87752297,\n",
              "         0.15341077,  0.20847774,  4.39793258],\n",
              "       [-0.8864228 ,  2.16189639, -2.10547614,  2.37286723, -1.57007253,\n",
              "         0.84256881, -1.34526047, -2.72148439],\n",
              "       [ 0.1417095 , -0.29492779,  0.83801874,  0.52814954, -2.17769937,\n",
              "        -1.47079406, -0.18274418, -0.09318348],\n",
              "       [-0.40482416,  0.35262697, -0.14674118, -2.62280444,  2.18562399,\n",
              "        -0.80383185, -0.30011494,  0.75515388],\n",
              "       [-0.03035035, -1.11965867,  0.56676111,  0.7992198 ,  0.16958137,\n",
              "         1.08128373,  0.93682903,  1.3026945 ],\n",
              "       [-0.39054141,  2.42312419, -0.78416456, -1.13775729, -2.01645   ,\n",
              "         0.04715563, -0.28806217,  1.28830671],\n",
              "       [-0.44743718,  1.40457868,  0.93050929,  0.19592242,  1.36944339,\n",
              "         0.74522551,  1.46546512, -1.27721   ],\n",
              "       [-2.19291614, -1.05628865, -1.49826991, -0.4011579 ,  1.47778313,\n",
              "         0.7971652 ,  1.16532203, -0.45302157],\n",
              "       [ 0.45520104,  0.82708181, -1.25058478, -0.98991948,  0.89662835,\n",
              "        -0.55730121,  0.69288129, -0.29387912],\n",
              "       [ 0.69805168,  0.25377075,  1.00622846, -0.62102551, -1.57828213,\n",
              "        -1.74881793,  0.62508273,  0.89746443]])"
            ]
          },
          "metadata": {},
          "execution_count": 201
        }
      ]
    },
    {
      "cell_type": "code",
      "source": [
        "import matplotlib.pyplot as plt\n",
        "from sklearn.decomposition import PCA\n",
        "\n",
        "# Compute PCA\n",
        "pca = PCA(n_components=2)\n",
        "pca.fit(output_array)\n",
        "X_pca = pca.transform(output_array)\n",
        "\n",
        "# Plot results\n",
        "plt.scatter(X_pca[:, 0], X_pca[:, 1])\n",
        "plt.xlabel('PCA component 1')\n",
        "plt.ylabel('PCA component 2')\n",
        "plt.show()"
      ],
      "metadata": {
        "colab": {
          "base_uri": "https://localhost:8080/",
          "height": 279
        },
        "id": "RzNRemrHkRRW",
        "outputId": "26229e88-4ce1-4539-e947-5664651c6694"
      },
      "execution_count": 202,
      "outputs": [
        {
          "output_type": "display_data",
          "data": {
            "text/plain": [
              "<Figure size 432x288 with 1 Axes>"
            ],
            "image/png": "[encoded data removed]"
          },
          "metadata": {
            "needs_background": "light"
          }
        }
      ]
    },
    {
      "cell_type": "markdown",
      "source": [
        "From the above plot we can observe the points (labels) are distant ,it implies similarities between them is low but for some labels like animal we can see the points are nearer as they have some similarities"
      ],
      "metadata": {
        "id": "Chd15a1Ormd8"
      }
    },
    {
      "cell_type": "code",
      "source": [],
      "metadata": {
        "id": "kNUsH898ra04"
      },
      "execution_count": null,
      "outputs": []
    }
  ]
}