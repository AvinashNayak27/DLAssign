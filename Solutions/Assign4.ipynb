{
  "nbformat": 4,
  "nbformat_minor": 0,
  "metadata": {
    "colab": {
      "provenance": []
    },
    "kernelspec": {
      "name": "python3",
      "display_name": "Python 3"
    },
    "language_info": {
      "name": "python"
    }
  },
  "cells": [
    {
      "cell_type": "code",
      "execution_count": 205,
      "metadata": {
        "id": "FW6e6VLq3x6v"
      },
      "outputs": [],
      "source": [
        "import numpy as np\n",
        "import tensorflow as tf\n",
        "from keras.models import Sequential\n",
        "from tensorflow.keras.preprocessing.sequence import pad_sequences\n",
        "import matplotlib.pyplot as plt"
      ]
    },
    {
      "cell_type": "markdown",
      "source": [
        "# Dataset Generation\n"
      ],
      "metadata": {
        "id": "q_nhLsgK6gxj"
      }
    },
    {
      "cell_type": "code",
      "source": [
        "def generateDataset(N, seq_len_range=(2, 9)):\n",
        "    X = []\n",
        "    Y = []\n",
        "    for i in range(N):\n",
        "        seq_len = np.random.randint(seq_len_range[0], seq_len_range[1]+1)\n",
        "        X_num = np.random.uniform(low=0, high=1, size=(seq_len, 1))\n",
        "        X_mask = np.zeros((seq_len, 1))\n",
        "        positions = np.random.choice(seq_len, size=2, replace=False)\n",
        "        X_mask[positions] = 1\n",
        "        Y.append(np.sum(X_num[positions]))\n",
        "        X.append(np.concatenate([X_num, X_mask], axis=1))\n",
        "    X = np.asarray(X)\n",
        "    Y = np.asarray(Y).reshape(-1, 1)\n",
        "    return X, Y"
      ],
      "metadata": {
        "id": "rHor9X3rxIzV"
      },
      "execution_count": 206,
      "outputs": []
    },
    {
      "cell_type": "code",
      "source": [
        "X_train, Y_train = generateDataset(4000)\n",
        "X_test, Y_test = generateDataset(1000,seq_len_range=(7,12))"
      ],
      "metadata": {
        "colab": {
          "base_uri": "https://localhost:8080/"
        },
        "id": "enCkd8lH4tFV",
        "outputId": "5eaf7de6-6d16-4a1b-8543-d50febd04682"
      },
      "execution_count": 207,
      "outputs": [
        {
          "output_type": "stream",
          "name": "stderr",
          "text": [
            "<ipython-input-206-d4c7eeb8865a>:12: VisibleDeprecationWarning: Creating an ndarray from ragged nested sequences (which is a list-or-tuple of lists-or-tuples-or ndarrays with different lengths or shapes) is deprecated. If you meant to do this, you must specify 'dtype=object' when creating the ndarray.\n",
            "  X = np.asarray(X)\n"
          ]
        }
      ]
    },
    {
      "cell_type": "code",
      "source": [
        "X_train = pad_sequences(X_train, padding='post', dtype=np.float32)\n",
        "X_test = pad_sequences(X_test, padding='post', dtype=np.float32)"
      ],
      "metadata": {
        "id": "FbY5FYhGzCvx"
      },
      "execution_count": 208,
      "outputs": []
    },
    {
      "cell_type": "code",
      "source": [
        "X_train_tf = tf.convert_to_tensor(X_train, dtype=tf.float32)\n",
        "Y_train_tf = tf.convert_to_tensor(Y_train, dtype=tf.float32)\n",
        "X_test_tf = tf.convert_to_tensor(X_test, dtype=tf.float32)\n",
        "Y_test_tf = tf.convert_to_tensor(Y_test, dtype=tf.float32)"
      ],
      "metadata": {
        "id": "zRgDlEiq8MGK"
      },
      "execution_count": 209,
      "outputs": []
    },
    {
      "cell_type": "markdown",
      "source": [
        "# Simple RNN "
      ],
      "metadata": {
        "id": "kW5yXLe86lpg"
      }
    },
    {
      "cell_type": "code",
      "source": [
        "class SimpleRNNLayer(tf.keras.layers.Layer):\n",
        "    def __init__(self, units, activation='tanh', **kwargs):\n",
        "        self.units = units\n",
        "        self.activation = tf.keras.activations.get(activation)\n",
        "        super().__init__(**kwargs)\n",
        "\n",
        "    def build(self, input_shape):\n",
        "        input_dim = input_shape[-1]\n",
        "        self.U = self.add_weight(shape=(input_dim, self.units),\n",
        "                                 initializer='glorot_uniform',\n",
        "                                 name='U')\n",
        "        self.W = self.add_weight(shape=(self.units, self.units),\n",
        "                                 initializer='orthogonal',\n",
        "                                 name='W')\n",
        "        self.bias_x = self.add_weight(shape=(self.units,),\n",
        "                                      initializer='zeros',\n",
        "                                      name='bias_x')\n",
        "        self.bias_y = self.add_weight(shape=(1,),\n",
        "                                      initializer='zeros',\n",
        "                                      name='bias_y')\n",
        "        self.built = True\n",
        "\n",
        "    def call(self, inputs, mask=None):\n",
        "        # Initialize hidden state\n",
        "        batch_size = tf.shape(inputs)[0]\n",
        "        h0 = tf.zeros((batch_size, self.units), dtype=inputs.dtype)\n",
        "\n",
        "        # Loop over time steps and compute hidden states\n",
        "        ht = h0\n",
        "        for i in range(tf.shape(inputs)[1]):\n",
        "            xt = inputs[:, i, :]\n",
        "            ht = self.activation(tf.matmul(xt, self.U) + tf.matmul(ht, self.W) + self.bias_x)\n",
        "\n",
        "        # Compute output\n",
        "        output = tf.matmul(ht, tf.transpose(self.W)) + self.bias_y\n",
        "        return output"
      ],
      "metadata": {
        "id": "U_ORlfxgF1tF"
      },
      "execution_count": 210,
      "outputs": []
    },
    {
      "cell_type": "code",
      "source": [
        "def elmon_model():\n",
        "    model = Sequential()\n",
        "    model.add(SimpleRNNLayer(32, activation='tanh'))\n",
        "    return model\n",
        "\n",
        "elmon = elmon_model()\n",
        "elmon.compile(loss='mean_squared_error', optimizer='adam')\n",
        "elmon_history = elmon.fit(X_train_tf, Y_train_tf, epochs=50,verbose = 0)\n"
      ],
      "metadata": {
        "id": "JqXpehRVDFjX"
      },
      "execution_count": 211,
      "outputs": []
    },
    {
      "cell_type": "markdown",
      "source": [
        "# LSTM"
      ],
      "metadata": {
        "id": "bqbJXWYA6rkq"
      }
    },
    {
      "cell_type": "code",
      "source": [
        "class LSTMLayer(tf.keras.layers.Layer):\n",
        "    def __init__(self, units, input_shape=None):\n",
        "        super().__init__()\n",
        "        self.units = units\n",
        "        self.input_shape_ = input_shape\n",
        "\n",
        "        if input_shape is not None:\n",
        "            self.build(input_shape)\n",
        "    \n",
        "    def build(self, input_shape):\n",
        "        self.input_dim = input_shape[-1]\n",
        "\n",
        "        self.w_i = self.add_weight(shape=(self.input_dim, self.units), name=\"input_weight\")\n",
        "        self.w_h = self.add_weight(shape=(self.units, self.units), name=\"recurrent_weight\")\n",
        "        self.b = self.add_weight(shape=(self.units,), name=\"bias\")\n",
        "\n",
        "        self.w_f = self.add_weight(shape=(self.input_dim, self.units), name=\"forget_weight\")\n",
        "        self.w_o = self.add_weight(shape=(self.input_dim, self.units), name=\"output_weight\")\n",
        "        self.w_c = self.add_weight(shape=(self.input_dim, self.units), name=\"cell_weight\")\n",
        "\n",
        "        self.w_hf = self.add_weight(shape=(self.units, self.units), name=\"recurrent_forget_weight\")\n",
        "        self.w_ho = self.add_weight(shape=(self.units, self.units), name=\"recurrent_output_weight\")\n",
        "        self.w_hc = self.add_weight(shape=(self.units, self.units), name=\"recurrent_cell_weight\")\n",
        "\n",
        "    def call(self, inputs):\n",
        "        hidden_state = tf.zeros((tf.shape(inputs)[0], self.units))\n",
        "        cell_state = tf.zeros((tf.shape(inputs)[0], self.units))\n",
        "\n",
        "        for i in range(inputs.shape[1]):\n",
        "            x_t = inputs[:, i, :]\n",
        "\n",
        "            forget_gate = tf.sigmoid(tf.matmul(x_t, self.w_f) + tf.matmul(hidden_state, self.w_hf))\n",
        "            input_gate = tf.sigmoid(tf.matmul(x_t, self.w_i) + tf.matmul(hidden_state, self.w_h))\n",
        "            output_gate = tf.sigmoid(tf.matmul(x_t, self.w_o) + tf.matmul(hidden_state, self.w_ho))\n",
        "\n",
        "            candidate_cell_state = tf.tanh(tf.matmul(x_t, self.w_c) + tf.matmul(hidden_state, self.w_hc))\n",
        "            cell_state = forget_gate * cell_state + input_gate * candidate_cell_state\n",
        "            hidden_state = output_gate * tf.tanh(cell_state)\n",
        "\n",
        "        return hidden_state"
      ],
      "metadata": {
        "id": "DhOCbUzsGXsX"
      },
      "execution_count": 212,
      "outputs": []
    },
    {
      "cell_type": "code",
      "source": [
        "def lstm_model():\n",
        "    model = Sequential()\n",
        "    model.add(LSTMLayer(32, input_shape=(None, 2)))\n",
        "    return model\n",
        "\n",
        "lstm = lstm_model()\n",
        "lstm.compile(loss='mean_squared_error', optimizer='adam')\n",
        "lstm_history = lstm.fit(X_train_tf, Y_train_tf, epochs=50,verbose = 0)"
      ],
      "metadata": {
        "colab": {
          "base_uri": "https://localhost:8080/"
        },
        "id": "P5GvYOpn64t8",
        "outputId": "8796682e-fe24-4e5b-b67e-5c79abcfb252"
      },
      "execution_count": 213,
      "outputs": [
        {
          "output_type": "stream",
          "name": "stderr",
          "text": [
            "WARNING:tensorflow:Gradients do not exist for variables ['lstm_layer_12/bias:0'] when minimizing the loss. If you're using `model.compile()`, did you forget to provide a `loss` argument?\n",
            "WARNING:tensorflow:Gradients do not exist for variables ['lstm_layer_12/bias:0'] when minimizing the loss. If you're using `model.compile()`, did you forget to provide a `loss` argument?\n",
            "WARNING:tensorflow:Gradients do not exist for variables ['lstm_layer_12/bias:0'] when minimizing the loss. If you're using `model.compile()`, did you forget to provide a `loss` argument?\n",
            "WARNING:tensorflow:Gradients do not exist for variables ['lstm_layer_12/bias:0'] when minimizing the loss. If you're using `model.compile()`, did you forget to provide a `loss` argument?\n"
          ]
        }
      ]
    },
    {
      "cell_type": "markdown",
      "source": [
        "# GRU"
      ],
      "metadata": {
        "id": "ajkdB9zI6urH"
      }
    },
    {
      "cell_type": "code",
      "source": [
        "class GRULayer(tf.keras.layers.Layer):\n",
        "    def __init__(self, units, input_shape=None):\n",
        "        super().__init__()\n",
        "        self.units = units\n",
        "        self.input_shape_ = input_shape\n",
        "\n",
        "        if input_shape is not None:\n",
        "            self.build(input_shape)\n",
        "\n",
        "    def build(self, input_shape):\n",
        "        self.input_dim = input_shape[-1]\n",
        "\n",
        "        self.w_z = self.add_weight(shape=(self.input_dim, self.units), name=\"update_weight\")\n",
        "        self.w_r = self.add_weight(shape=(self.input_dim, self.units), name=\"reset_weight\")\n",
        "        self.w_h = self.add_weight(shape=(self.input_dim, self.units), name=\"new_hidden_weight\")\n",
        "        self.b_z = self.add_weight(shape=(self.units,), name=\"update_bias\")\n",
        "        self.b_r = self.add_weight(shape=(self.units,), name=\"reset_bias\")\n",
        "        self.b_h = self.add_weight(shape=(self.units,), name=\"new_hidden_bias\")\n",
        "\n",
        "        self.w_hz = self.add_weight(shape=(self.units, self.units), name=\"recurrent_update_weight\")\n",
        "        self.w_hr = self.add_weight(shape=(self.units, self.units), name=\"recurrent_reset_weight\")\n",
        "        self.w_hh = self.add_weight(shape=(self.units, self.units), name=\"recurrent_new_hidden_weight\")\n",
        "\n",
        "    def call(self, inputs):\n",
        "        hidden_state = tf.zeros((tf.shape(inputs)[0], self.units))\n",
        "\n",
        "        for i in range(inputs.shape[1]):\n",
        "            x_t = inputs[:, i, :]\n",
        "\n",
        "            z_gate = tf.sigmoid(tf.matmul(x_t, self.w_z) + tf.matmul(hidden_state, self.w_hz) + self.b_z)\n",
        "            r_gate = tf.sigmoid(tf.matmul(x_t, self.w_r) + tf.matmul(hidden_state, self.w_hr) + self.b_r)\n",
        "\n",
        "            h_tilde = tf.tanh(tf.matmul(x_t, self.w_h) + tf.matmul(r_gate * hidden_state, self.w_hh) + self.b_h)\n",
        "\n",
        "            hidden_state = (1 - z_gate) * hidden_state + z_gate * h_tilde\n",
        "\n",
        "        return hidden_state"
      ],
      "metadata": {
        "id": "7OQ8-q4KfDMt"
      },
      "execution_count": 214,
      "outputs": []
    },
    {
      "cell_type": "code",
      "source": [
        "def gru_model():\n",
        "    model = Sequential()\n",
        "    model.add(GRULayer(32, input_shape=(None, 2)))\n",
        "    return model\n",
        "\n",
        "gru = gru_model()\n",
        "gru.compile(loss='mean_squared_error', optimizer='adam')\n",
        "gru_history = gru.fit(X_train_tf, Y_train_tf, epochs=50,verbose = 0)"
      ],
      "metadata": {
        "id": "PaWRiSr6HR_F"
      },
      "execution_count": 215,
      "outputs": []
    },
    {
      "cell_type": "markdown",
      "source": [
        "# Baseline"
      ],
      "metadata": {
        "id": "ebIzZNEo60_B"
      }
    },
    {
      "cell_type": "code",
      "source": [
        "baseline_loss = 0\n",
        "mse = tf.keras.losses.MeanSquaredError()\n",
        "\n",
        "for i in range(4000):\n",
        "    x = tf.constant([1])\n",
        "    y = Y_train[i]\n",
        "    loss = mse(x, y)\n",
        "    baseline_loss += loss\n",
        "\n",
        "baseline_loss /= 4000\n",
        "baseline_loss = tf.cast(baseline_loss, dtype=tf.float32)\n",
        "x = tf.linspace(-1.0, 50, 50)\n",
        "y = tf.ones(50) * baseline_loss"
      ],
      "metadata": {
        "id": "vY3JAPHRfmXw"
      },
      "execution_count": 216,
      "outputs": []
    },
    {
      "cell_type": "markdown",
      "source": [
        "# learning curves"
      ],
      "metadata": {
        "id": "2f0pI8g_67Dj"
      }
    },
    {
      "cell_type": "code",
      "source": [
        "plt.plot(x, y, '-r', label='baseline loss')\n",
        "plt.plot(elmon_history.history['loss'], label='elmon loss')\n",
        "plt.plot(lstm_history.history['loss'], label='lstm loss')\n",
        "plt.plot(gru_history.history['loss'], label='gru loss')\n",
        "plt.legend()\n",
        "plt.show()\n"
      ],
      "metadata": {
        "colab": {
          "base_uri": "https://localhost:8080/",
          "height": 430
        },
        "id": "RtIZalIL9KLX",
        "outputId": "4dfa08c3-2823-48d7-9c87-b702afca9978"
      },
      "execution_count": 217,
      "outputs": [
        {
          "output_type": "display_data",
          "data": {
            "text/plain": [
              "<Figure size 640x480 with 1 Axes>"
            ],
            "image/png": "[encoded data removed]"
          },
          "metadata": {}
        }
      ]
    },
    {
      "cell_type": "markdown",
      "source": [
        "# Evaluated Losses"
      ],
      "metadata": {
        "id": "YHBnTIh46FtO"
      }
    },
    {
      "cell_type": "code",
      "source": [
        "evaluated_baseline_loss = 0\n",
        "mse = tf.keras.losses.MeanSquaredError()\n",
        "\n",
        "for i in range(1000):\n",
        "    x = tf.constant([1])\n",
        "    y = Y_test[i]\n",
        "    loss = mse(x, y)\n",
        "    evaluated_baseline_loss += loss\n",
        "\n",
        "evaluated_baseline_loss /= 1000\n",
        "\n",
        "evaluated_elmon_loss = elmon.evaluate(X_test, Y_test, verbose=0)\n",
        "evaluated_lstm_loss = lstm.evaluate(X_test, Y_test, verbose=0)\n",
        "evaluated_gru_loss = gru.evaluate(X_test, Y_test, verbose=0)"
      ],
      "metadata": {
        "id": "DzSEfOon6EVO"
      },
      "execution_count": 218,
      "outputs": []
    },
    {
      "cell_type": "code",
      "source": [
        "print('Evaluated Baseline loss:', evaluated_baseline_loss.numpy())\n",
        "print('Evaluated Elmon loss:', evaluated_elmon_loss)\n",
        "print('Evaluated LSTM loss:', evaluated_lstm_loss)\n",
        "print('Evaluated GRU loss:', evaluated_gru_loss)"
      ],
      "metadata": {
        "colab": {
          "base_uri": "https://localhost:8080/"
        },
        "id": "k2FIuISX5x2X",
        "outputId": "c19cf244-6951-4c1e-8cd1-be579197061c"
      },
      "execution_count": 222,
      "outputs": [
        {
          "output_type": "stream",
          "name": "stdout",
          "text": [
            "Evaluated Baseline loss: 0.17324050566656168\n",
            "Evaluated Elmon loss: 0.36695119738578796\n",
            "Evaluated LSTM loss: 0.15351596474647522\n",
            "Evaluated GRU loss: 0.17323483526706696\n"
          ]
        }
      ]
    }
  ]
}