{
  "nbformat": 4,
  "nbformat_minor": 0,
  "metadata": {
    "colab": {
      "provenance": []
    },
    "kernelspec": {
      "name": "python3",
      "display_name": "Python 3"
    },
    "language_info": {
      "name": "python"
    }
  },
  "cells": [
    {
      "cell_type": "code",
      "execution_count": 5,
      "metadata": {
        "id": "sw6KrGuXWu6L"
      },
      "outputs": [],
      "source": [
        "import numpy as np\n",
        "from keras.datasets import mnist\n",
        "from keras.layers import Input, Dense\n",
        "from keras.models import Model\n",
        "from keras import regularizers\n",
        "import matplotlib.pyplot as plt"
      ]
    },
    {
      "cell_type": "code",
      "source": [
        "# Load MNIST dataset\n",
        "(x_train, _), (x_test, _) = mnist.load_data()\n",
        "\n",
        "# Normalize data to range between 0 and 1\n",
        "x_train = x_train.astype('float32') / 255.\n",
        "x_test = x_test.astype('float32') / 255.\n",
        "\n",
        "# Flatten data into a single vector of size 784\n",
        "x_train = x_train.reshape((len(x_train), np.prod(x_train.shape[1:])))\n",
        "x_test = x_test.reshape((len(x_test), np.prod(x_test.shape[1:])))\n",
        "\n",
        "# Define input shape\n",
        "input_shape = (784,)\n",
        "\n",
        "# Define regularization parameter\n",
        "reg_param = 10e-5\n",
        "\n",
        "# Define autoencoder models with hidden dimensions of 32 and 64\n",
        "encoding_dim_32 = 32\n",
        "encoding_dim_64 = 64"
      ],
      "metadata": {
        "id": "LTwdf4ALXK43",
        "colab": {
          "base_uri": "https://localhost:8080/"
        },
        "outputId": "4dbf7e26-19db-479e-bcd8-fb67916addbb"
      },
      "execution_count": 6,
      "outputs": [
        {
          "output_type": "stream",
          "name": "stdout",
          "text": [
            "Downloading data from https://storage.googleapis.com/tensorflow/tf-keras-datasets/mnist.npz\n",
            "11490434/11490434 [==============================] - 1s 0us/step\n"
          ]
        }
      ]
    },
    {
      "cell_type": "code",
      "source": [
        "input_img = Input(shape=input_shape)\n",
        "encoded_32 = Dense(encoding_dim_32, activation='relu', activity_regularizer=regularizers.l1(reg_param))(input_img)\n",
        "encoded_64 = Dense(encoding_dim_64, activation='relu', activity_regularizer=regularizers.l1(reg_param))(input_img)\n",
        "\n",
        "decoded_32 = Dense(784, activation='sigmoid')(encoded_32)\n",
        "decoded_64 = Dense(784, activation='sigmoid')(encoded_64)\n",
        "\n",
        "autoencoder_32 = Model(input_img, decoded_32)\n",
        "autoencoder_64 = Model(input_img, decoded_64)"
      ],
      "metadata": {
        "id": "UqW5YhL_XPDT"
      },
      "execution_count": 7,
      "outputs": []
    },
    {
      "cell_type": "code",
      "source": [
        "autoencoder_32.compile(optimizer='adam', loss='binary_crossentropy')\n",
        "autoencoder_64.compile(optimizer='adam', loss='binary_crossentropy')"
      ],
      "metadata": {
        "id": "7HA0mw7kXorZ"
      },
      "execution_count": 8,
      "outputs": []
    },
    {
      "cell_type": "code",
      "source": [
        "autoencoder_32.fit(x_train, x_train, epochs=50, batch_size=256, shuffle=True, validation_data=(x_test, x_test))\n",
        "autoencoder_64.fit(x_train, x_train, epochs=50, batch_size=256, shuffle=True, validation_data=(x_test, x_test))"
      ],
      "metadata": {
        "colab": {
          "base_uri": "https://localhost:8080/"
        },
        "id": "-l8N-pcAXrKB",
        "outputId": "1e1cfa35-64c5-4f7c-dde1-3d7715ce7af0"
      },
      "execution_count": 9,
      "outputs": [
        {
          "output_type": "stream",
          "name": "stdout",
          "text": [
            "Epoch 1/50\n",
            "235/235 [==============================] - 4s 15ms/step - loss: 0.2855 - val_loss: 0.2025\n",
            "Epoch 2/50\n",
            "235/235 [==============================] - 3s 14ms/step - loss: 0.1827 - val_loss: 0.1644\n",
            "Epoch 3/50\n",
            "235/235 [==============================] - 3s 12ms/step - loss: 0.1536 - val_loss: 0.1423\n",
            "Epoch 4/50\n",
            "235/235 [==============================] - 3s 12ms/step - loss: 0.1374 - val_loss: 0.1302\n",
            "Epoch 5/50\n",
            "235/235 [==============================] - 3s 14ms/step - loss: 0.1278 - val_loss: 0.1227\n",
            "Epoch 6/50\n",
            "235/235 [==============================] - 4s 15ms/step - loss: 0.1214 - val_loss: 0.1173\n",
            "Epoch 7/50\n",
            "235/235 [==============================] - 3s 12ms/step - loss: 0.1166 - val_loss: 0.1134\n",
            "Epoch 8/50\n",
            "235/235 [==============================] - 3s 12ms/step - loss: 0.1132 - val_loss: 0.1106\n",
            "Epoch 9/50\n",
            "235/235 [==============================] - 3s 12ms/step - loss: 0.1109 - val_loss: 0.1086\n",
            "Epoch 10/50\n",
            "235/235 [==============================] - 4s 17ms/step - loss: 0.1092 - val_loss: 0.1072\n",
            "Epoch 11/50\n",
            "235/235 [==============================] - 3s 12ms/step - loss: 0.1080 - val_loss: 0.1062\n",
            "Epoch 12/50\n",
            "235/235 [==============================] - 3s 12ms/step - loss: 0.1071 - val_loss: 0.1054\n",
            "Epoch 13/50\n",
            "235/235 [==============================] - 3s 13ms/step - loss: 0.1064 - val_loss: 0.1048\n",
            "Epoch 14/50\n",
            "235/235 [==============================] - 4s 17ms/step - loss: 0.1058 - val_loss: 0.1042\n",
            "Epoch 15/50\n",
            "235/235 [==============================] - 3s 12ms/step - loss: 0.1053 - val_loss: 0.1037\n",
            "Epoch 16/50\n",
            "235/235 [==============================] - 3s 12ms/step - loss: 0.1048 - val_loss: 0.1033\n",
            "Epoch 17/50\n",
            "235/235 [==============================] - 3s 12ms/step - loss: 0.1044 - val_loss: 0.1030\n",
            "Epoch 18/50\n",
            "235/235 [==============================] - 5s 20ms/step - loss: 0.1040 - val_loss: 0.1026\n",
            "Epoch 19/50\n",
            "235/235 [==============================] - 3s 12ms/step - loss: 0.1037 - val_loss: 0.1023\n",
            "Epoch 20/50\n",
            "235/235 [==============================] - 3s 12ms/step - loss: 0.1033 - val_loss: 0.1019\n",
            "Epoch 21/50\n",
            "235/235 [==============================] - 3s 12ms/step - loss: 0.1031 - val_loss: 0.1017\n",
            "Epoch 22/50\n",
            "235/235 [==============================] - 4s 16ms/step - loss: 0.1028 - val_loss: 0.1014\n",
            "Epoch 23/50\n",
            "235/235 [==============================] - 3s 12ms/step - loss: 0.1025 - val_loss: 0.1012\n",
            "Epoch 24/50\n",
            "235/235 [==============================] - 3s 12ms/step - loss: 0.1023 - val_loss: 0.1009\n",
            "Epoch 25/50\n",
            "235/235 [==============================] - 3s 12ms/step - loss: 0.1021 - val_loss: 0.1007\n",
            "Epoch 26/50\n",
            "235/235 [==============================] - 4s 16ms/step - loss: 0.1018 - val_loss: 0.1005\n",
            "Epoch 27/50\n",
            "235/235 [==============================] - 3s 13ms/step - loss: 0.1016 - val_loss: 0.1004\n",
            "Epoch 28/50\n",
            "235/235 [==============================] - 3s 12ms/step - loss: 0.1014 - val_loss: 0.1002\n",
            "Epoch 29/50\n",
            "235/235 [==============================] - 3s 12ms/step - loss: 0.1013 - val_loss: 0.1001\n",
            "Epoch 30/50\n",
            "235/235 [==============================] - 3s 14ms/step - loss: 0.1011 - val_loss: 0.0998\n",
            "Epoch 31/50\n",
            "235/235 [==============================] - 3s 14ms/step - loss: 0.1009 - val_loss: 0.0997\n",
            "Epoch 32/50\n",
            "235/235 [==============================] - 3s 12ms/step - loss: 0.1008 - val_loss: 0.0995\n",
            "Epoch 33/50\n",
            "235/235 [==============================] - 3s 12ms/step - loss: 0.1006 - val_loss: 0.0994\n",
            "Epoch 34/50\n",
            "235/235 [==============================] - 3s 13ms/step - loss: 0.1005 - val_loss: 0.0993\n",
            "Epoch 35/50\n",
            "235/235 [==============================] - 4s 16ms/step - loss: 0.1004 - val_loss: 0.0991\n",
            "Epoch 36/50\n",
            "235/235 [==============================] - 3s 12ms/step - loss: 0.1002 - val_loss: 0.0992\n",
            "Epoch 37/50\n",
            "235/235 [==============================] - 3s 12ms/step - loss: 0.1001 - val_loss: 0.0989\n",
            "Epoch 38/50\n",
            "235/235 [==============================] - 3s 12ms/step - loss: 0.1000 - val_loss: 0.0988\n",
            "Epoch 39/50\n",
            "235/235 [==============================] - 5s 21ms/step - loss: 0.0999 - val_loss: 0.0987\n",
            "Epoch 40/50\n",
            "235/235 [==============================] - 3s 12ms/step - loss: 0.0998 - val_loss: 0.0986\n",
            "Epoch 41/50\n",
            "235/235 [==============================] - 3s 12ms/step - loss: 0.0997 - val_loss: 0.0985\n",
            "Epoch 42/50\n",
            "235/235 [==============================] - 3s 12ms/step - loss: 0.0996 - val_loss: 0.0984\n",
            "Epoch 43/50\n",
            "235/235 [==============================] - 4s 17ms/step - loss: 0.0995 - val_loss: 0.0984\n",
            "Epoch 44/50\n",
            "235/235 [==============================] - 3s 12ms/step - loss: 0.0994 - val_loss: 0.0982\n",
            "Epoch 45/50\n",
            "235/235 [==============================] - 3s 12ms/step - loss: 0.0993 - val_loss: 0.0982\n",
            "Epoch 46/50\n",
            "235/235 [==============================] - 3s 12ms/step - loss: 0.0992 - val_loss: 0.0981\n",
            "Epoch 47/50\n",
            "235/235 [==============================] - 4s 17ms/step - loss: 0.0992 - val_loss: 0.0981\n",
            "Epoch 48/50\n",
            "235/235 [==============================] - 3s 12ms/step - loss: 0.0991 - val_loss: 0.0979\n",
            "Epoch 49/50\n",
            "235/235 [==============================] - 3s 11ms/step - loss: 0.0990 - val_loss: 0.0979\n",
            "Epoch 50/50\n",
            "235/235 [==============================] - 3s 12ms/step - loss: 0.0989 - val_loss: 0.0978\n",
            "Epoch 1/50\n",
            "235/235 [==============================] - 5s 18ms/step - loss: 0.2562 - val_loss: 0.1717\n",
            "Epoch 2/50\n",
            "235/235 [==============================] - 3s 15ms/step - loss: 0.1543 - val_loss: 0.1390\n",
            "Epoch 3/50\n",
            "235/235 [==============================] - 3s 14ms/step - loss: 0.1311 - val_loss: 0.1215\n",
            "Epoch 4/50\n",
            "235/235 [==============================] - 3s 13ms/step - loss: 0.1173 - val_loss: 0.1110\n",
            "Epoch 5/50\n",
            "235/235 [==============================] - 4s 18ms/step - loss: 0.1086 - val_loss: 0.1041\n",
            "Epoch 6/50\n",
            "235/235 [==============================] - 3s 13ms/step - loss: 0.1026 - val_loss: 0.0993\n",
            "Epoch 7/50\n",
            "235/235 [==============================] - 3s 13ms/step - loss: 0.0985 - val_loss: 0.0959\n",
            "Epoch 8/50\n",
            "235/235 [==============================] - 3s 14ms/step - loss: 0.0955 - val_loss: 0.0935\n",
            "Epoch 9/50\n",
            "235/235 [==============================] - 4s 19ms/step - loss: 0.0933 - val_loss: 0.0916\n",
            "Epoch 10/50\n",
            "235/235 [==============================] - 3s 14ms/step - loss: 0.0917 - val_loss: 0.0902\n",
            "Epoch 11/50\n",
            "235/235 [==============================] - 3s 14ms/step - loss: 0.0904 - val_loss: 0.0890\n",
            "Epoch 12/50\n",
            "235/235 [==============================] - 4s 15ms/step - loss: 0.0893 - val_loss: 0.0881\n",
            "Epoch 13/50\n",
            "235/235 [==============================] - 4s 17ms/step - loss: 0.0884 - val_loss: 0.0874\n",
            "Epoch 14/50\n",
            "235/235 [==============================] - 3s 14ms/step - loss: 0.0877 - val_loss: 0.0867\n",
            "Epoch 15/50\n",
            "235/235 [==============================] - 3s 14ms/step - loss: 0.0871 - val_loss: 0.0862\n",
            "Epoch 16/50\n",
            "235/235 [==============================] - 4s 19ms/step - loss: 0.0865 - val_loss: 0.0857\n",
            "Epoch 17/50\n",
            "235/235 [==============================] - 3s 13ms/step - loss: 0.0861 - val_loss: 0.0852\n",
            "Epoch 18/50\n",
            "235/235 [==============================] - 3s 14ms/step - loss: 0.0856 - val_loss: 0.0848\n",
            "Epoch 19/50\n",
            "235/235 [==============================] - 3s 13ms/step - loss: 0.0852 - val_loss: 0.0844\n",
            "Epoch 20/50\n",
            "235/235 [==============================] - 4s 19ms/step - loss: 0.0848 - val_loss: 0.0841\n",
            "Epoch 21/50\n",
            "235/235 [==============================] - 3s 13ms/step - loss: 0.0845 - val_loss: 0.0838\n",
            "Epoch 22/50\n",
            "235/235 [==============================] - 3s 14ms/step - loss: 0.0842 - val_loss: 0.0834\n",
            "Epoch 23/50\n",
            "235/235 [==============================] - 4s 15ms/step - loss: 0.0839 - val_loss: 0.0832\n",
            "Epoch 24/50\n",
            "235/235 [==============================] - 4s 17ms/step - loss: 0.0836 - val_loss: 0.0829\n",
            "Epoch 25/50\n",
            "235/235 [==============================] - 3s 13ms/step - loss: 0.0833 - val_loss: 0.0827\n",
            "Epoch 26/50\n",
            "235/235 [==============================] - 3s 13ms/step - loss: 0.0831 - val_loss: 0.0824\n",
            "Epoch 27/50\n",
            "235/235 [==============================] - 4s 17ms/step - loss: 0.0829 - val_loss: 0.0822\n",
            "Epoch 28/50\n",
            "235/235 [==============================] - 4s 15ms/step - loss: 0.0826 - val_loss: 0.0820\n",
            "Epoch 29/50\n",
            "235/235 [==============================] - 3s 13ms/step - loss: 0.0824 - val_loss: 0.0819\n",
            "Epoch 30/50\n",
            "235/235 [==============================] - 3s 13ms/step - loss: 0.0823 - val_loss: 0.0816\n",
            "Epoch 31/50\n",
            "235/235 [==============================] - 5s 19ms/step - loss: 0.0821 - val_loss: 0.0815\n",
            "Epoch 32/50\n",
            "235/235 [==============================] - 3s 14ms/step - loss: 0.0819 - val_loss: 0.0813\n",
            "Epoch 33/50\n",
            "235/235 [==============================] - 3s 13ms/step - loss: 0.0817 - val_loss: 0.0811\n",
            "Epoch 34/50\n",
            "235/235 [==============================] - 3s 13ms/step - loss: 0.0816 - val_loss: 0.0810\n",
            "Epoch 35/50\n",
            "235/235 [==============================] - 4s 19ms/step - loss: 0.0814 - val_loss: 0.0809\n",
            "Epoch 36/50\n",
            "235/235 [==============================] - 3s 13ms/step - loss: 0.0813 - val_loss: 0.0807\n",
            "Epoch 37/50\n",
            "235/235 [==============================] - 3s 14ms/step - loss: 0.0812 - val_loss: 0.0806\n",
            "Epoch 38/50\n",
            "235/235 [==============================] - 3s 14ms/step - loss: 0.0810 - val_loss: 0.0805\n",
            "Epoch 39/50\n",
            "235/235 [==============================] - 4s 17ms/step - loss: 0.0809 - val_loss: 0.0804\n",
            "Epoch 40/50\n",
            "235/235 [==============================] - 3s 13ms/step - loss: 0.0808 - val_loss: 0.0803\n",
            "Epoch 41/50\n",
            "235/235 [==============================] - 3s 14ms/step - loss: 0.0807 - val_loss: 0.0803\n",
            "Epoch 42/50\n",
            "235/235 [==============================] - 4s 16ms/step - loss: 0.0806 - val_loss: 0.0801\n",
            "Epoch 43/50\n",
            "235/235 [==============================] - 4s 16ms/step - loss: 0.0805 - val_loss: 0.0800\n",
            "Epoch 44/50\n",
            "235/235 [==============================] - 3s 13ms/step - loss: 0.0804 - val_loss: 0.0799\n",
            "Epoch 45/50\n",
            "235/235 [==============================] - 3s 14ms/step - loss: 0.0803 - val_loss: 0.0798\n",
            "Epoch 46/50\n",
            "235/235 [==============================] - 4s 19ms/step - loss: 0.0802 - val_loss: 0.0797\n",
            "Epoch 47/50\n",
            "235/235 [==============================] - 3s 13ms/step - loss: 0.0801 - val_loss: 0.0796\n",
            "Epoch 48/50\n",
            "235/235 [==============================] - 3s 14ms/step - loss: 0.0800 - val_loss: 0.0795\n",
            "Epoch 49/50\n",
            "235/235 [==============================] - 3s 14ms/step - loss: 0.0799 - val_loss: 0.0794\n",
            "Epoch 50/50\n",
            "235/235 [==============================] - 4s 19ms/step - loss: 0.0798 - val_loss: 0.0794\n"
          ]
        },
        {
          "output_type": "execute_result",
          "data": {
            "text/plain": [
              "<keras.callbacks.History at 0x7fc34c6c70d0>"
            ]
          },
          "metadata": {},
          "execution_count": 9
        }
      ]
    },
    {
      "cell_type": "code",
      "source": [
        "# Generate 10 reconstructions for the train and test data for each model\n",
        "decoded_imgs_32_train = autoencoder_32.predict(x_train)\n",
        "decoded_imgs_64_train = autoencoder_64.predict(x_train)\n",
        "\n",
        "decoded_imgs_32_test = autoencoder_32.predict(x_test)\n",
        "decoded_imgs_64_test = autoencoder_64.predict(x_test)"
      ],
      "metadata": {
        "colab": {
          "base_uri": "https://localhost:8080/"
        },
        "id": "3yfL5Pl3XuWs",
        "outputId": "440ae9d9-1bd9-42fe-e1f3-e393cd844a25"
      },
      "execution_count": 10,
      "outputs": [
        {
          "output_type": "stream",
          "name": "stdout",
          "text": [
            "1875/1875 [==============================] - 3s 1ms/step\n",
            "1875/1875 [==============================] - 4s 2ms/step\n",
            "313/313 [==============================] - 1s 1ms/step\n",
            "313/313 [==============================] - 1s 2ms/step\n"
          ]
        }
      ]
    },
    {
      "cell_type": "code",
      "source": [],
      "metadata": {
        "id": "zUso-Q4-ZTn8"
      },
      "execution_count": 11,
      "outputs": []
    },
    {
      "cell_type": "code",
      "source": [
        "mse_32_train = np.mean(np.power(x_train - decoded_imgs_32_train, 2), axis=1)\n",
        "mse_64_train = np.mean(np.power(x_train - decoded_imgs_64_train, 2), axis=1)\n",
        "mse_32_test = np.mean(np.power(x_test - decoded_imgs_32_test, 2), axis=1)\n",
        "mse_64_test = np.mean(np.power(x_test - decoded_imgs_64_test, 2), axis=1)"
      ],
      "metadata": {
        "id": "eCWeDPTLaNIS"
      },
      "execution_count": 13,
      "outputs": []
    },
    {
      "cell_type": "code",
      "source": [
        "print(\"Autoencoder model with 32-dimensional hidden layer:\")\n",
        "print(\"Train reconstruction error:\", np.mean(mse_32_train))\n",
        "print(\"Test reconstruction error:\", np.mean(mse_32_test))\n",
        "\n",
        "print(\"Autoencoder model with 64-dimensional hidden layer:\")\n",
        "print(\"Train reconstruction error:\", np.mean(mse_64_train))\n",
        "print(\"Test reconstruction error:\", np.mean(mse_64_test))"
      ],
      "metadata": {
        "colab": {
          "base_uri": "https://localhost:8080/"
        },
        "id": "IQYYInrnaP_G",
        "outputId": "ae4406ff-8129-473a-83e7-628b270f53ce"
      },
      "execution_count": 14,
      "outputs": [
        {
          "output_type": "stream",
          "name": "stdout",
          "text": [
            "Autoencoder model with 32-dimensional hidden layer:\n",
            "Train reconstruction error: 0.010105673\n",
            "Test reconstruction error: 0.009832502\n",
            "Autoencoder model with 64-dimensional hidden layer:\n",
            "Train reconstruction error: 0.0039748186\n",
            "Test reconstruction error: 0.0039481525\n"
          ]
        }
      ]
    },
    {
      "cell_type": "code",
      "source": [
        "n = 10\n",
        "plt.figure(figsize=(20, 4))\n",
        "for i in range(n):\n",
        "    # Display original images\n",
        "    ax = plt.subplot(3, n, i + 1)\n",
        "    plt.imshow(x_train[i].reshape(28, 28))\n",
        "    plt.gray()\n",
        "    ax.get_xaxis().set_visible(False)\n",
        "    ax.get_yaxis().set_visible(False)\n",
        "    \n",
        "    # Display reconstructions using 32-dimensional hidden layer\n",
        "    ax = plt.subplot(3, n, i + 1 + n)\n",
        "    plt.imshow(decoded_imgs_32_train[i].reshape(28, 28))\n",
        "    plt.gray()\n",
        "    ax.get_xaxis().set_visible(False)\n",
        "    ax.get_yaxis().set_visible(False)\n",
        "\n",
        "\n",
        "    # Display reconstructions using 64-dimensional hidden layer\n",
        "    ax = plt.subplot(3, n, i + 1 + 2*n)\n",
        "    plt.imshow(decoded_imgs_64_train[i].reshape(28, 28))\n",
        "    plt.gray()\n",
        "    ax.get_xaxis().set_visible(False)\n",
        "    ax.get_yaxis().set_visible(False)\n",
        "\n",
        "plt.show()\n",
        "   "
      ],
      "metadata": {
        "colab": {
          "base_uri": "https://localhost:8080/",
          "height": 300
        },
        "id": "nGMYLDYQ91kn",
        "outputId": "ca34a365-ba87-43fa-e728-949bf7212883"
      },
      "execution_count": 35,
      "outputs": [
        {
          "output_type": "display_data",
          "data": {
            "text/plain": [
              "<Figure size 2000x400 with 30 Axes>"
            ],
            "image/png": "[encoded data removed]"
          },
          "metadata": {}
        }
      ]
    }
  ]
}